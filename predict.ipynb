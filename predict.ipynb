{
 "cells": [
  {
   "cell_type": "code",
   "execution_count": 5,
   "metadata": {},
   "outputs": [],
   "source": [
    "import tensorflow as tf\n",
    "import numpy as np\n",
    "import pandas as pd\n",
    "\n",
    "from tensorflow import keras"
   ]
  },
  {
   "cell_type": "code",
   "execution_count": 18,
   "metadata": {},
   "outputs": [],
   "source": [
    "model = keras.models.load_model(\"models/TA94_7_26_23.h5\")"
   ]
  },
  {
   "cell_type": "code",
   "execution_count": 19,
   "metadata": {},
   "outputs": [],
   "source": [
    "def parse(input_string, target_rows=15):\n",
    "    positions = input_string.split(\"%\")\n",
    "\n",
    "    chunk_df = pd.DataFrame([list(map(float, pos.split(\",\"))) for pos in positions], columns=[\"x\", \"y\", \"z\"])\n",
    "\n",
    "    if len(chunk_df) == target_rows:\n",
    "        return chunk_df\n",
    "\n",
    "    linspace = pd.DataFrame(\n",
    "        index=pd.RangeIndex(target_rows),\n",
    "        columns=chunk_df.columns\n",
    "    )\n",
    "\n",
    "    for col in [\"x\", \"y\", \"z\"]:\n",
    "        linspace[col] = pd.Series(np.interp(\n",
    "            np.linspace(0, 1, num=target_rows),\n",
    "            np.linspace(0, 1, num=len(chunk_df)),\n",
    "            chunk_df[col]\n",
    "        ))\n",
    "\n",
    "    return linspace.values.tolist()"
   ]
  },
  {
   "cell_type": "code",
   "execution_count": 21,
   "metadata": {},
   "outputs": [
    {
     "name": "stdout",
     "output_type": "stream",
     "text": [
      "1/1 [==============================] - 0s 21ms/step\n",
      "raw prediction: 0.00025542176445014775\n",
      "rounded: 0.0\n"
     ]
    }
   ],
   "source": [
    "data_string = \"4.5,2.98,-3.75%5.93,3,-3.46%7.36,3.13,-2.61%60.06,8,28.82%43.03,6.76,32.49\"\n",
    "\n",
    "custom_test_positions = parse(data_string)\n",
    "custom_test_positions = np.array(custom_test_positions)\n",
    "\n",
    "prediction = model.predict(custom_test_positions.reshape(-1, 15, 3))[0][0]\n",
    "print(f\"raw prediction: {prediction}\")\n",
    "print(f\"rounded: {np.round(prediction)}\")"
   ]
  }
 ],
 "metadata": {
  "kernelspec": {
   "display_name": "Python 3",
   "language": "python",
   "name": "python3"
  },
  "language_info": {
   "codemirror_mode": {
    "name": "ipython",
    "version": 3
   },
   "file_extension": ".py",
   "mimetype": "text/x-python",
   "name": "python",
   "nbconvert_exporter": "python",
   "pygments_lexer": "ipython3",
   "version": "3.10.10"
  },
  "orig_nbformat": 4
 },
 "nbformat": 4,
 "nbformat_minor": 2
}
