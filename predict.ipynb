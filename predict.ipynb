{
 "cells": [
  {
   "cell_type": "code",
   "execution_count": 1,
   "metadata": {},
   "outputs": [],
   "source": [
    "import tensorflow as tf\n",
    "import numpy as np\n",
    "import pandas as pd\n",
    "\n",
    "from tensorflow import keras"
   ]
  },
  {
   "cell_type": "code",
   "execution_count": 2,
   "metadata": {},
   "outputs": [],
   "source": [
    "model = keras.models.load_model(\"models/TA90_7_28_23.h5\")"
   ]
  },
  {
   "cell_type": "code",
   "execution_count": 3,
   "metadata": {},
   "outputs": [],
   "source": [
    "def parse(input_string, target_rows=15):\n",
    "    positions = input_string.split(\"%\")\n",
    "\n",
    "    chunk_df = pd.DataFrame([list(map(float, pos.split(\",\"))) for pos in positions], columns=[\"x\", \"y\", \"z\"])\n",
    "\n",
    "    if len(chunk_df) == target_rows:\n",
    "        return chunk_df\n",
    "\n",
    "    linspace = pd.DataFrame(\n",
    "        index=pd.RangeIndex(target_rows),\n",
    "        columns=chunk_df.columns\n",
    "    )\n",
    "\n",
    "    for col in [\"x\", \"y\", \"z\"]:\n",
    "        linspace[col] = pd.Series(np.interp(\n",
    "            np.linspace(0, 1, num=target_rows),\n",
    "            np.linspace(0, 1, num=len(chunk_df)),\n",
    "            chunk_df[col]\n",
    "        ))\n",
    "\n",
    "    return linspace.values.tolist()"
   ]
  },
  {
   "cell_type": "code",
   "execution_count": 8,
   "metadata": {},
   "outputs": [
    {
     "name": "stdout",
     "output_type": "stream",
     "text": [
      "1/1 [==============================] - 0s 15ms/step\n",
      "raw prediction: 0.978450357913971\n",
      "rounded: 1.0\n"
     ]
    }
   ],
   "source": [
    "data_string = \"4.5,3,-3.75%5.93,3,-1.63%5.76,2.99,-0.88\"\n",
    "\n",
    "custom_test_positions = parse(data_string)\n",
    "custom_test_positions = np.array(custom_test_positions)\n",
    "\n",
    "prediction = model.predict(custom_test_positions.reshape(-1, 15, 3))[0][0]\n",
    "print(f\"raw prediction: {prediction}\")\n",
    "print(f\"rounded: {np.round(prediction)}\")"
   ]
  }
 ],
 "metadata": {
  "kernelspec": {
   "display_name": "Python 3",
   "language": "python",
   "name": "python3"
  },
  "language_info": {
   "codemirror_mode": {
    "name": "ipython",
    "version": 3
   },
   "file_extension": ".py",
   "mimetype": "text/x-python",
   "name": "python",
   "nbconvert_exporter": "python",
   "pygments_lexer": "ipython3",
   "version": "3.10.10"
  },
  "orig_nbformat": 4
 },
 "nbformat": 4,
 "nbformat_minor": 2
}
