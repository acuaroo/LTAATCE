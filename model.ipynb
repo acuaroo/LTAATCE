{
 "cells": [
  {
   "cell_type": "code",
   "execution_count": 1,
   "metadata": {},
   "outputs": [],
   "source": [
    "import pandas as pd \n",
    "import numpy as np\n",
    "import tensorflow as tf\n",
    "\n",
    "from tensorflow import keras\n",
    "from keras.layers import Dense"
   ]
  },
  {
   "cell_type": "code",
   "execution_count": 3,
   "metadata": {},
   "outputs": [
    {
     "name": "stdout",
     "output_type": "stream",
     "text": [
      "(1400, 15, 3) (1400,)\n"
     ]
    }
   ],
   "source": [
    "data = pd.read_csv(\"data/lerped-data.csv\")\n",
    "\n",
    "positions = data[[\"x\", \"y\", \"z\"]].values.reshape(-1, 15, 3)\n",
    "is_exploiting = data[\"is_exploiting\"].values[::15]\n",
    "\n",
    "print(positions.shape, is_exploiting.shape)"
   ]
  },
  {
   "cell_type": "code",
   "execution_count": 4,
   "metadata": {},
   "outputs": [
    {
     "name": "stdout",
     "output_type": "stream",
     "text": [
      "(1120, 15, 3) (280, 15, 3) (1120,) (280,)\n"
     ]
    }
   ],
   "source": [
    "split = int(len(positions) * 0.8)\n",
    "\n",
    "shuffle_index = np.random.permutation(len(positions))\n",
    "positions, is_exploiting = positions[shuffle_index], is_exploiting[shuffle_index]\n",
    "\n",
    "positions_train, positions_test = positions[:split], positions[split:]\n",
    "is_exploiting_train, is_exploiting_test = is_exploiting[:split], is_exploiting[split:]\n",
    "\n",
    "print(positions_train.shape, positions_test.shape, is_exploiting_train.shape, is_exploiting_test.shape)"
   ]
  },
  {
   "cell_type": "code",
   "execution_count": 5,
   "metadata": {},
   "outputs": [
    {
     "name": "stdout",
     "output_type": "stream",
     "text": [
      "Epoch 1/15\n",
      "75/75 [==============================] - 1s 3ms/step - loss: 1.2332 - accuracy: 0.7643\n",
      "Epoch 2/15\n",
      "75/75 [==============================] - 0s 3ms/step - loss: 0.5854 - accuracy: 0.8348\n",
      "Epoch 3/15\n",
      "75/75 [==============================] - 0s 3ms/step - loss: 0.3968 - accuracy: 0.8652\n",
      "Epoch 4/15\n",
      "75/75 [==============================] - 0s 3ms/step - loss: 0.4193 - accuracy: 0.8554\n",
      "Epoch 5/15\n",
      "75/75 [==============================] - 0s 3ms/step - loss: 0.3576 - accuracy: 0.8643\n",
      "Epoch 6/15\n",
      "75/75 [==============================] - 0s 3ms/step - loss: 0.3285 - accuracy: 0.8893\n",
      "Epoch 7/15\n",
      "75/75 [==============================] - 0s 3ms/step - loss: 0.3357 - accuracy: 0.8723\n",
      "Epoch 8/15\n",
      "75/75 [==============================] - 0s 3ms/step - loss: 0.3649 - accuracy: 0.8750\n",
      "Epoch 9/15\n",
      "75/75 [==============================] - 0s 3ms/step - loss: 0.3057 - accuracy: 0.9009\n",
      "Epoch 10/15\n",
      "75/75 [==============================] - 0s 3ms/step - loss: 0.2648 - accuracy: 0.9089\n",
      "Epoch 11/15\n",
      "75/75 [==============================] - 0s 3ms/step - loss: 0.3287 - accuracy: 0.8946\n",
      "Epoch 12/15\n",
      "75/75 [==============================] - 0s 3ms/step - loss: 0.3073 - accuracy: 0.8946\n",
      "Epoch 13/15\n",
      "75/75 [==============================] - 0s 3ms/step - loss: 0.2895 - accuracy: 0.8982\n",
      "Epoch 14/15\n",
      "75/75 [==============================] - 0s 3ms/step - loss: 0.2634 - accuracy: 0.9107\n",
      "Epoch 15/15\n",
      "75/75 [==============================] - 0s 3ms/step - loss: 0.2545 - accuracy: 0.9062\n"
     ]
    },
    {
     "data": {
      "text/plain": [
       "<keras.callbacks.History at 0x1d20d1dbeb0>"
      ]
     },
     "execution_count": 5,
     "metadata": {},
     "output_type": "execute_result"
    }
   ],
   "source": [
    "model = keras.Sequential([\n",
    "    keras.layers.Flatten(input_shape=(15, 3)),\n",
    "    keras.layers.Dense(64),\n",
    "    keras.layers.Dense(1, activation=\"sigmoid\")\n",
    "])\n",
    "\n",
    "\n",
    "model.compile(optimizer=\"adam\",\n",
    "                loss=\"binary_crossentropy\",\n",
    "                metrics=[\"accuracy\"])\n",
    "\n",
    "model.fit(positions_train, is_exploiting_train, epochs=15, batch_size=15)"
   ]
  },
  {
   "cell_type": "code",
   "execution_count": 6,
   "metadata": {},
   "outputs": [
    {
     "name": "stdout",
     "output_type": "stream",
     "text": [
      "9/9 [==============================] - 0s 6ms/step - loss: 0.4773 - accuracy: 0.8571\n"
     ]
    },
    {
     "data": {
      "text/plain": [
       "[0.4772944748401642, 0.8571428656578064]"
      ]
     },
     "execution_count": 6,
     "metadata": {},
     "output_type": "execute_result"
    }
   ],
   "source": [
    "model.evaluate(positions_test, is_exploiting_test)"
   ]
  },
  {
   "cell_type": "code",
   "execution_count": null,
   "metadata": {},
   "outputs": [],
   "source": [
    "model.save(\"models/TA98_7_28_23.h5\")"
   ]
  }
 ],
 "metadata": {
  "kernelspec": {
   "display_name": "Python 3",
   "language": "python",
   "name": "python3"
  },
  "language_info": {
   "codemirror_mode": {
    "name": "ipython",
    "version": 3
   },
   "file_extension": ".py",
   "mimetype": "text/x-python",
   "name": "python",
   "nbconvert_exporter": "python",
   "pygments_lexer": "ipython3",
   "version": "3.10.10"
  },
  "orig_nbformat": 4
 },
 "nbformat": 4,
 "nbformat_minor": 2
}
