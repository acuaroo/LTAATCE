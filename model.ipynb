{
 "cells": [
  {
   "cell_type": "code",
   "execution_count": 1,
   "metadata": {},
   "outputs": [],
   "source": [
    "import pandas as pd \n",
    "import numpy as np\n",
    "import tensorflow as tf\n",
    "\n",
    "from tensorflow import keras\n",
    "from keras.layers import Dense"
   ]
  },
  {
   "cell_type": "code",
   "execution_count": 2,
   "metadata": {},
   "outputs": [
    {
     "name": "stdout",
     "output_type": "stream",
     "text": [
      "(1260, 15, 3) (1260,)\n"
     ]
    }
   ],
   "source": [
    "data = pd.read_csv(\"data/lerped-data.csv\")\n",
    "\n",
    "positions = data[[\"x\", \"y\", \"z\"]].values.reshape(-1, 15, 3)\n",
    "is_exploiting = data[\"is_exploiting\"].values[::15]\n",
    "\n",
    "print(positions.shape, is_exploiting.shape)"
   ]
  },
  {
   "cell_type": "code",
   "execution_count": 3,
   "metadata": {},
   "outputs": [
    {
     "name": "stdout",
     "output_type": "stream",
     "text": [
      "(1008, 15, 3) (252, 15, 3) (1008,) (252,)\n"
     ]
    }
   ],
   "source": [
    "split = int(len(positions) * 0.8)\n",
    "\n",
    "positions_train = positions[:split]\n",
    "positions_test = positions[split:]\n",
    "\n",
    "is_exploiting_train = is_exploiting[:split]\n",
    "is_exploiting_test = is_exploiting[split:]\n",
    "\n",
    "print(positions_train.shape, positions_test.shape, is_exploiting_train.shape, is_exploiting_test.shape)"
   ]
  },
  {
   "cell_type": "code",
   "execution_count": 16,
   "metadata": {},
   "outputs": [
    {
     "name": "stdout",
     "output_type": "stream",
     "text": [
      "Epoch 1/25\n",
      "101/101 [==============================] - 1s 4ms/step - loss: 3.6743 - accuracy: 0.7113\n",
      "Epoch 2/25\n",
      "101/101 [==============================] - 0s 3ms/step - loss: 0.6805 - accuracy: 0.8542\n",
      "Epoch 3/25\n",
      "101/101 [==============================] - 0s 3ms/step - loss: 0.4790 - accuracy: 0.8819\n",
      "Epoch 4/25\n",
      "101/101 [==============================] - 0s 3ms/step - loss: 0.3685 - accuracy: 0.9028\n",
      "Epoch 5/25\n",
      "101/101 [==============================] - 0s 3ms/step - loss: 0.3381 - accuracy: 0.9097\n",
      "Epoch 6/25\n",
      "101/101 [==============================] - 0s 3ms/step - loss: 0.2858 - accuracy: 0.9157\n",
      "Epoch 7/25\n",
      "101/101 [==============================] - 0s 3ms/step - loss: 0.2651 - accuracy: 0.9246\n",
      "Epoch 8/25\n",
      "101/101 [==============================] - 0s 3ms/step - loss: 0.2648 - accuracy: 0.9236\n",
      "Epoch 9/25\n",
      "101/101 [==============================] - 0s 3ms/step - loss: 0.2621 - accuracy: 0.9196\n",
      "Epoch 10/25\n",
      "101/101 [==============================] - 0s 3ms/step - loss: 0.2563 - accuracy: 0.9286\n",
      "Epoch 11/25\n",
      "101/101 [==============================] - 0s 3ms/step - loss: 0.4053 - accuracy: 0.9048\n",
      "Epoch 12/25\n",
      "101/101 [==============================] - 0s 3ms/step - loss: 0.3028 - accuracy: 0.9107\n",
      "Epoch 13/25\n",
      "101/101 [==============================] - 0s 3ms/step - loss: 0.3331 - accuracy: 0.9127\n",
      "Epoch 14/25\n",
      "101/101 [==============================] - 0s 3ms/step - loss: 0.3169 - accuracy: 0.9256\n",
      "Epoch 15/25\n",
      "101/101 [==============================] - 0s 3ms/step - loss: 0.2571 - accuracy: 0.9296\n",
      "Epoch 16/25\n",
      "101/101 [==============================] - 0s 3ms/step - loss: 0.2336 - accuracy: 0.9226\n",
      "Epoch 17/25\n",
      "101/101 [==============================] - 0s 3ms/step - loss: 0.2360 - accuracy: 0.9286\n",
      "Epoch 18/25\n",
      "101/101 [==============================] - 0s 4ms/step - loss: 0.2618 - accuracy: 0.9167\n",
      "Epoch 19/25\n",
      "101/101 [==============================] - 0s 3ms/step - loss: 0.2027 - accuracy: 0.9345\n",
      "Epoch 20/25\n",
      "101/101 [==============================] - 0s 3ms/step - loss: 0.1923 - accuracy: 0.9365\n",
      "Epoch 21/25\n",
      "101/101 [==============================] - 0s 3ms/step - loss: 0.2141 - accuracy: 0.9355\n",
      "Epoch 22/25\n",
      "101/101 [==============================] - 0s 3ms/step - loss: 0.2176 - accuracy: 0.9286\n",
      "Epoch 23/25\n",
      "101/101 [==============================] - 0s 3ms/step - loss: 0.1827 - accuracy: 0.9345\n",
      "Epoch 24/25\n",
      "101/101 [==============================] - 0s 3ms/step - loss: 0.2233 - accuracy: 0.9276\n",
      "Epoch 25/25\n",
      "101/101 [==============================] - 0s 3ms/step - loss: 0.2426 - accuracy: 0.9276\n"
     ]
    },
    {
     "data": {
      "text/plain": [
       "<keras.callbacks.History at 0x1774a4c3850>"
      ]
     },
     "execution_count": 16,
     "metadata": {},
     "output_type": "execute_result"
    }
   ],
   "source": [
    "model = keras.Sequential([\n",
    "    keras.layers.Flatten(input_shape=(15, 3)),\n",
    "    keras.layers.Dense(32),\n",
    "    keras.layers.Dense(16),\n",
    "    keras.layers.Dense(1, activation=\"sigmoid\")\n",
    "])\n",
    "\n",
    "model.compile(optimizer=\"adam\",\n",
    "                loss=\"binary_crossentropy\",\n",
    "                metrics=[\"accuracy\"])\n",
    "\n",
    "model.fit(positions_train, is_exploiting_train, epochs=25, batch_size=10)"
   ]
  },
  {
   "cell_type": "code",
   "execution_count": 17,
   "metadata": {},
   "outputs": [
    {
     "name": "stdout",
     "output_type": "stream",
     "text": [
      "8/8 [==============================] - 0s 4ms/step - loss: 0.2168 - accuracy: 0.9405\n"
     ]
    },
    {
     "data": {
      "text/plain": [
       "[0.2168109267950058, 0.9404761791229248]"
      ]
     },
     "execution_count": 17,
     "metadata": {},
     "output_type": "execute_result"
    }
   ],
   "source": [
    "model.evaluate(positions_test, is_exploiting_test)"
   ]
  },
  {
   "cell_type": "code",
   "execution_count": 15,
   "metadata": {},
   "outputs": [],
   "source": [
    "model.save(\"models/TA94_7_26_23.h5\")"
   ]
  }
 ],
 "metadata": {
  "kernelspec": {
   "display_name": "Python 3",
   "language": "python",
   "name": "python3"
  },
  "language_info": {
   "codemirror_mode": {
    "name": "ipython",
    "version": 3
   },
   "file_extension": ".py",
   "mimetype": "text/x-python",
   "name": "python",
   "nbconvert_exporter": "python",
   "pygments_lexer": "ipython3",
   "version": "3.10.10"
  },
  "orig_nbformat": 4
 },
 "nbformat": 4,
 "nbformat_minor": 2
}
