{
 "cells": [
  {
   "cell_type": "code",
   "execution_count": 1,
   "metadata": {},
   "outputs": [],
   "source": [
    "import pandas as pd \n",
    "import numpy as np\n",
    "import tensorflow as tf\n",
    "\n",
    "from tensorflow import keras\n",
    "from keras.layers import Dens, Dropout, Flatten, Conv2D, MaxPooling2D"
   ]
  },
  {
   "cell_type": "code",
   "execution_count": 2,
   "metadata": {},
   "outputs": [
    {
     "name": "stdout",
     "output_type": "stream",
     "text": [
      "(1400, 15, 3) (1400,)\n",
      "[[[ 2.88        6.78       43.95      ]\n",
      "  [17.91428571 13.25142857 40.71857143]\n",
      "  [27.83428571  7.36571429 42.35142857]\n",
      "  ...\n",
      "  [ 7.65714286  7.08142857 -2.51142857]\n",
      "  [15.27571429  5.27571429  0.28285714]\n",
      "  [61.93        8.67       10.02      ]]\n",
      "\n",
      " [[61.72       15.74       32.18      ]\n",
      "  [12.24571429  8.06857143 39.76571429]\n",
      "  [14.05       10.59714286 38.85857143]\n",
      "  ...\n",
      "  [ 8.05142857  7.37142857  0.23714286]\n",
      "  [15.66142857  6.17428571  1.66857143]\n",
      "  [59.35        9.62       10.        ]]\n",
      "\n",
      " [[ 4.24        3.64       41.44      ]\n",
      "  [16.84857143 10.10285714 38.83428571]\n",
      "  [26.75        7.07285714 41.97142857]\n",
      "  ...\n",
      "  [ 6.90428571  6.58714286 -2.28      ]\n",
      "  [15.36571429  9.04714286 -0.42      ]\n",
      "  [59.32        8.85       10.74      ]]\n",
      "\n",
      " ...\n",
      "\n",
      " [[ 2.62        9.08       45.28      ]\n",
      "  [ 3.76        8.08       31.40571429]\n",
      "  [ 4.9         7.08       17.53142857]\n",
      "  ...\n",
      "  [ 8.58428571  5.21428571 -0.83142857]\n",
      "  [ 9.02714286  4.69714286 -0.84571429]\n",
      "  [ 9.47        4.18       -0.86      ]]\n",
      "\n",
      " [[ 6.34        6.48        0.34      ]\n",
      "  [ 6.58285714  6.13714286 -0.38571429]\n",
      "  [ 6.82571429  5.79428571 -1.11142857]\n",
      "  ...\n",
      "  [ 2.73142857 16.71142857 45.51428571]\n",
      "  [ 2.70571429 12.82571429 45.85714286]\n",
      "  [ 2.68        8.94       46.2       ]]\n",
      "\n",
      " [[ 3.37       26.14       44.76      ]\n",
      "  [ 4.19857143 20.53142857 31.18      ]\n",
      "  [ 5.02714286 14.92285714 17.6       ]\n",
      "  ...\n",
      "  [ 5.67714286  4.75714286 22.51571429]\n",
      "  [ 4.76857143  4.10857143 36.03285714]\n",
      "  [ 3.86        3.46       49.55      ]]] [0 0 0 ... 1 1 1]\n"
     ]
    }
   ],
   "source": [
    "data = pd.read_csv(\"data/lerped-data.csv\")\n",
    "\n",
    "positions = data[[\"x\", \"y\", \"z\"]].values.reshape(-1, 15, 3)\n",
    "is_exploiting = data[\"is_exploiting\"].values[::15]\n",
    "\n",
    "print(positions.shape, is_exploiting.shape)\n",
    "print(positions, is_exploiting)"
   ]
  },
  {
   "cell_type": "code",
   "execution_count": 3,
   "metadata": {},
   "outputs": [
    {
     "name": "stdout",
     "output_type": "stream",
     "text": [
      "(1120, 15, 3) (280, 15, 3) (1120,) (280,)\n"
     ]
    }
   ],
   "source": [
    "split = int(len(positions) * 0.8)\n",
    "\n",
    "shuffle_index = np.random.permutation(len(positions))\n",
    "positions, is_exploiting = positions[shuffle_index], is_exploiting[shuffle_index]\n",
    "\n",
    "positions_train, positions_test = positions[:split], positions[split:]\n",
    "is_exploiting_train, is_exploiting_test = is_exploiting[:split], is_exploiting[split:]\n",
    "\n",
    "print(positions_train.shape, positions_test.shape, is_exploiting_train.shape, is_exploiting_test.shape)"
   ]
  },
  {
   "cell_type": "code",
   "execution_count": 18,
   "metadata": {},
   "outputs": [
    {
     "name": "stdout",
     "output_type": "stream",
     "text": [
      "Epoch 1/10\n",
      "75/75 [==============================] - 1s 4ms/step - loss: 0.6388 - accuracy: 0.7732\n",
      "Epoch 2/10\n",
      "75/75 [==============================] - 0s 3ms/step - loss: 0.2070 - accuracy: 0.9268\n",
      "Epoch 3/10\n",
      "75/75 [==============================] - 0s 3ms/step - loss: 0.1339 - accuracy: 0.9536\n",
      "Epoch 4/10\n",
      "75/75 [==============================] - 0s 3ms/step - loss: 0.0983 - accuracy: 0.9741\n",
      "Epoch 5/10\n",
      "75/75 [==============================] - 0s 3ms/step - loss: 0.0745 - accuracy: 0.9857\n",
      "Epoch 6/10\n",
      "75/75 [==============================] - 0s 3ms/step - loss: 0.0576 - accuracy: 0.9893\n",
      "Epoch 7/10\n",
      "75/75 [==============================] - 0s 3ms/step - loss: 0.0492 - accuracy: 0.9893\n",
      "Epoch 8/10\n",
      "75/75 [==============================] - 0s 3ms/step - loss: 0.0428 - accuracy: 0.9911\n",
      "Epoch 9/10\n",
      "75/75 [==============================] - 0s 3ms/step - loss: 0.0345 - accuracy: 0.9937\n",
      "Epoch 10/10\n",
      "75/75 [==============================] - 0s 3ms/step - loss: 0.0283 - accuracy: 0.9937\n"
     ]
    },
    {
     "data": {
      "text/plain": [
       "<keras.callbacks.History at 0x1921341f100>"
      ]
     },
     "execution_count": 18,
     "metadata": {},
     "output_type": "execute_result"
    }
   ],
   "source": [
    "model = keras.Sequential([\n",
    "    keras.layers.Flatten(input_shape=(15, 3)),\n",
    "    keras.layers.Dense(64),\n",
    "    keras.layers.Dense(1, activation=\"sigmoid\")\n",
    "])\n",
    "\n",
    "\n",
    "model.compile(optimizer=\"adam\",\n",
    "                loss=\"binary_crossentropy\",\n",
    "                metrics=[\"accuracy\"])\n",
    "\n",
    "model.fit(positions_train, is_exploiting_train, epochs=25, batch_size=50)"
   ]
  },
  {
   "cell_type": "code",
   "execution_count": 19,
   "metadata": {},
   "outputs": [
    {
     "name": "stdout",
     "output_type": "stream",
     "text": [
      "9/9 [==============================] - 0s 2ms/step - loss: 0.0462 - accuracy: 0.9857\n"
     ]
    },
    {
     "data": {
      "text/plain": [
       "[0.046161800622940063, 0.9857142567634583]"
      ]
     },
     "execution_count": 19,
     "metadata": {},
     "output_type": "execute_result"
    }
   ],
   "source": [
    "model.evaluate(positions_test, is_exploiting_test)"
   ]
  },
  {
   "cell_type": "code",
   "execution_count": 20,
   "metadata": {},
   "outputs": [],
   "source": [
    "model.save(\"models/TA98_7_28_23.h5\")"
   ]
  }
 ],
 "metadata": {
  "kernelspec": {
   "display_name": "Python 3",
   "language": "python",
   "name": "python3"
  },
  "language_info": {
   "codemirror_mode": {
    "name": "ipython",
    "version": 3
   },
   "file_extension": ".py",
   "mimetype": "text/x-python",
   "name": "python",
   "nbconvert_exporter": "python",
   "pygments_lexer": "ipython3",
   "version": "3.10.10"
  },
  "orig_nbformat": 4
 },
 "nbformat": 4,
 "nbformat_minor": 2
}
