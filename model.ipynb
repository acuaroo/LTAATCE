{
 "cells": [
  {
   "cell_type": "code",
   "execution_count": 1,
   "metadata": {},
   "outputs": [],
   "source": [
    "import pandas as pd \n",
    "import numpy as np\n",
    "import tensorflow as tf\n",
    "\n",
    "from tensorflow import keras\n",
    "from keras.layers import Dense"
   ]
  },
  {
   "cell_type": "code",
   "execution_count": 2,
   "metadata": {},
   "outputs": [
    {
     "name": "stdout",
     "output_type": "stream",
     "text": [
      "(1260, 15, 3) (1260,)\n"
     ]
    }
   ],
   "source": [
    "data = pd.read_csv(\"data/lerped-data.csv\")\n",
    "\n",
    "positions = data[[\"x\", \"y\", \"z\"]].values.reshape(-1, 15, 3)\n",
    "is_exploiting = data[\"is_exploiting\"].values[::15]\n",
    "\n",
    "print(positions.shape, is_exploiting.shape)"
   ]
  },
  {
   "cell_type": "code",
   "execution_count": 3,
   "metadata": {},
   "outputs": [
    {
     "name": "stdout",
     "output_type": "stream",
     "text": [
      "(1008, 15, 3) (252, 15, 3) (1008,) (252,)\n"
     ]
    }
   ],
   "source": [
    "split = int(len(positions) * 0.8)\n",
    "\n",
    "positions_train = positions[:split]\n",
    "positions_test = positions[split:]\n",
    "\n",
    "is_exploiting_train = is_exploiting[:split]\n",
    "is_exploiting_test = is_exploiting[split:]\n",
    "\n",
    "print(positions_train.shape, positions_test.shape, is_exploiting_train.shape, is_exploiting_test.shape)"
   ]
  },
  {
   "cell_type": "code",
   "execution_count": 4,
   "metadata": {},
   "outputs": [
    {
     "name": "stdout",
     "output_type": "stream",
     "text": [
      "Epoch 1/10\n",
      "101/101 [==============================] - 1s 3ms/step - loss: 1.9252 - accuracy: 0.7698\n",
      "Epoch 2/10\n",
      "101/101 [==============================] - 0s 3ms/step - loss: 0.6229 - accuracy: 0.8760\n",
      "Epoch 3/10\n",
      "101/101 [==============================] - 0s 3ms/step - loss: 0.4091 - accuracy: 0.9077\n",
      "Epoch 4/10\n",
      "101/101 [==============================] - 0s 3ms/step - loss: 0.5924 - accuracy: 0.8750\n",
      "Epoch 5/10\n",
      "101/101 [==============================] - 0s 3ms/step - loss: 0.4032 - accuracy: 0.9087\n",
      "Epoch 6/10\n",
      "101/101 [==============================] - 0s 3ms/step - loss: 0.3356 - accuracy: 0.9296\n",
      "Epoch 7/10\n",
      "101/101 [==============================] - 0s 3ms/step - loss: 0.4440 - accuracy: 0.9077\n",
      "Epoch 8/10\n",
      "101/101 [==============================] - 0s 3ms/step - loss: 0.3794 - accuracy: 0.9236\n",
      "Epoch 9/10\n",
      "101/101 [==============================] - 0s 3ms/step - loss: 0.4925 - accuracy: 0.8919\n",
      "Epoch 10/10\n",
      "101/101 [==============================] - 0s 3ms/step - loss: 0.5844 - accuracy: 0.8859\n"
     ]
    },
    {
     "data": {
      "text/plain": [
       "<keras.callbacks.History at 0x2b72dd9d990>"
      ]
     },
     "execution_count": 4,
     "metadata": {},
     "output_type": "execute_result"
    }
   ],
   "source": [
    "model = keras.Sequential([\n",
    "    keras.layers.Flatten(input_shape=(15, 3)),\n",
    "    keras.layers.Dense(128),\n",
    "    keras.layers.Dense(1, activation=\"sigmoid\")\n",
    "])\n",
    "\n",
    "model.compile(optimizer=\"adam\",\n",
    "                loss=\"binary_crossentropy\",\n",
    "                metrics=[\"accuracy\"])\n",
    "\n",
    "model.fit(positions_train, is_exploiting_train, epochs=10, batch_size=10)"
   ]
  },
  {
   "cell_type": "code",
   "execution_count": 5,
   "metadata": {},
   "outputs": [
    {
     "name": "stdout",
     "output_type": "stream",
     "text": [
      "8/8 [==============================] - 0s 3ms/step - loss: 5.7405 - accuracy: 0.4683\n"
     ]
    },
    {
     "data": {
      "text/plain": [
       "[5.740527153015137, 0.4682539701461792]"
      ]
     },
     "execution_count": 5,
     "metadata": {},
     "output_type": "execute_result"
    }
   ],
   "source": [
    "model.evaluate(positions_test, is_exploiting_test)"
   ]
  },
  {
   "cell_type": "code",
   "execution_count": 8,
   "metadata": {},
   "outputs": [],
   "source": [
    "def parse(input_string, target_rows=15):\n",
    "    positions = input_string.split(\"%\")\n",
    "\n",
    "    chunk_df = pd.DataFrame([list(map(float, pos.split(\",\"))) for pos in positions], columns=[\"x\", \"y\", \"z\"])\n",
    "\n",
    "    if len(chunk_df) == target_rows:\n",
    "        return chunk_df\n",
    "\n",
    "    linspace = pd.DataFrame(\n",
    "        index=pd.RangeIndex(target_rows),\n",
    "        columns=chunk_df.columns\n",
    "    )\n",
    "\n",
    "    for col in [\"x\", \"y\", \"z\"]:\n",
    "        linspace[col] = pd.Series(np.interp(\n",
    "            np.linspace(0, 1, num=target_rows),\n",
    "            np.linspace(0, 1, num=len(chunk_df)),\n",
    "            chunk_df[col]\n",
    "        ))\n",
    "\n",
    "    return linspace.values.tolist()"
   ]
  },
  {
   "cell_type": "code",
   "execution_count": 31,
   "metadata": {},
   "outputs": [
    {
     "name": "stdout",
     "output_type": "stream",
     "text": [
      "1/1 [==============================] - 0s 20ms/step\n",
      "raw prediction: 0.9999988079071045\n",
      "rounded: 1.0\n"
     ]
    }
   ],
   "source": [
    "data_string = \"4.5,3.51,-3.75%4.5,3,-3.75%4.5,3,-3.75%3.31,8.19,25.51%2.82,10.34,37.65\"\n",
    "\n",
    "custom_test_positions = parse(data_string)\n",
    "custom_test_positions = np.array(custom_test_positions)\n",
    "\n",
    "prediction = model.predict(custom_test_positions.reshape(-1, 15, 3))[0][0]\n",
    "print(f\"raw prediction: {prediction}\")\n",
    "print(f\"rounded: {np.round(prediction)}\")"
   ]
  }
 ],
 "metadata": {
  "kernelspec": {
   "display_name": "Python 3",
   "language": "python",
   "name": "python3"
  },
  "language_info": {
   "codemirror_mode": {
    "name": "ipython",
    "version": 3
   },
   "file_extension": ".py",
   "mimetype": "text/x-python",
   "name": "python",
   "nbconvert_exporter": "python",
   "pygments_lexer": "ipython3",
   "version": "3.10.10"
  },
  "orig_nbformat": 4
 },
 "nbformat": 4,
 "nbformat_minor": 2
}
